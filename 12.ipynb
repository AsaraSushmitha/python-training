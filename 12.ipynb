{
 "cells": [
  {
   "cell_type": "code",
   "execution_count": 2,
   "metadata": {},
   "outputs": [
    {
     "data": {
      "text/plain": [
       "array([1, 2, 3, 4, 5, 6, 7, 8, 9])"
      ]
     },
     "execution_count": 2,
     "metadata": {},
     "output_type": "execute_result"
    }
   ],
   "source": [
    "import numpy as np\n",
    "np.arange(1,10)"
   ]
  },
  {
   "cell_type": "code",
   "execution_count": 3,
   "metadata": {},
   "outputs": [
    {
     "data": {
      "text/plain": [
       "array([ 1, 10, 19, 28, 37, 46, 55, 64, 73, 82, 91])"
      ]
     },
     "execution_count": 3,
     "metadata": {},
     "output_type": "execute_result"
    }
   ],
   "source": [
    "import numpy as np\n",
    "np.arange(1,100,9)"
   ]
  },
  {
   "cell_type": "code",
   "execution_count": 5,
   "metadata": {},
   "outputs": [
    {
     "data": {
      "text/plain": [
       "array([ 1,  3,  5,  7,  9, 11, 13, 15, 17, 19, 21, 23])"
      ]
     },
     "execution_count": 5,
     "metadata": {},
     "output_type": "execute_result"
    }
   ],
   "source": [
    "import numpy as np\n",
    "np.arange(2,20,2)\n",
    "np.arange(1,25,2)"
   ]
  },
  {
   "cell_type": "code",
   "execution_count": 14,
   "metadata": {},
   "outputs": [
    {
     "name": "stdout",
     "output_type": "stream",
     "text": [
      "First Row:  [1 2 3]\n"
     ]
    }
   ],
   "source": [
    "import numpy as np\n",
    "a1=np.array([(1,2,3),(4,5,6)])\n",
    "print(\"First Row: \",a1[0])"
   ]
  },
  {
   "cell_type": "code",
   "execution_count": 19,
   "metadata": {},
   "outputs": [
    {
     "name": "stdout",
     "output_type": "stream",
     "text": [
      "slicing column: [2 5]\n"
     ]
    }
   ],
   "source": [
    "import numpy as np\n",
    "a1=np.array([(1,2,3),(4,5,6)])\n",
    "print(\"slicing column:\",a1[:,1])"
   ]
  },
  {
   "cell_type": "code",
   "execution_count": 25,
   "metadata": {},
   "outputs": [
    {
     "name": "stdout",
     "output_type": "stream",
     "text": [
      "Second Row:  [4 5 6]\n"
     ]
    }
   ],
   "source": [
    "import numpy as np\n",
    "a1=np.array([(1,2,3),(4,5,6)])\n",
    "print(\"Second Row: \",a1[1])"
   ]
  },
  {
   "cell_type": "code",
   "execution_count": 21,
   "metadata": {},
   "outputs": [
    {
     "name": "stdout",
     "output_type": "stream",
     "text": [
      "[[1 2 3]\n",
      " [4 5 6]]\n"
     ]
    }
   ],
   "source": [
    "import numpy as np\n",
    "a1=np.array([(1,2,3),(4,5,6)])\n",
    "print(a1)"
   ]
  },
  {
   "cell_type": "code",
   "execution_count": 22,
   "metadata": {},
   "outputs": [
    {
     "name": "stdout",
     "output_type": "stream",
     "text": [
      "slicing last column:  [3 6]\n"
     ]
    }
   ],
   "source": [
    "import numpy as np\n",
    "a1=np.array([(1,2,3),(4,5,6)])\n",
    "print(\"slicing last column: \",a1[:,2])"
   ]
  },
  {
   "cell_type": "code",
   "execution_count": 23,
   "metadata": {},
   "outputs": [
    {
     "name": "stdout",
     "output_type": "stream",
     "text": [
      "row and column :  [4]\n"
     ]
    }
   ],
   "source": [
    "import numpy as np\n",
    "a1=np.array([(1,2,3),(4,5,6)])\n",
    "print(\"row and column : \",a1[1,:1])"
   ]
  },
  {
   "cell_type": "code",
   "execution_count": 31,
   "metadata": {},
   "outputs": [
    {
     "name": "stdout",
     "output_type": "stream",
     "text": [
      "[6.87654636 5.33130837 4.57195979 4.16628253 5.91056061 4.96281787\n",
      " 4.59034214 4.61110555 3.86487323 6.0303158 ]\n",
      "min value:  3.864873226925334\n",
      "max value:  6.87654635813586\n",
      "median value:  4.786961712546455\n",
      "mean value:  5.091611225718359\n"
     ]
    }
   ],
   "source": [
    "import numpy as np\n",
    "a1=np.random.normal(5,1,10)\n",
    "print(a1)\n",
    "print(\"min value: \",np.min(a1))\n",
    "print(\"max value: \",np.max(a1))\n",
    "print(\"median value: \",np.median(a1))\n",
    "print(\"mean value: \",np.mean(a1))"
   ]
  },
  {
   "cell_type": "code",
   "execution_count": 32,
   "metadata": {},
   "outputs": [
    {
     "data": {
      "text/plain": [
       "14"
      ]
     },
     "execution_count": 32,
     "metadata": {},
     "output_type": "execute_result"
    }
   ],
   "source": [
    "import numpy as np\n",
    "c1=np.array([1,2])\n",
    "c2=np.array([4,5])\n",
    "np.dot(c1,c2)"
   ]
  },
  {
   "cell_type": "code",
   "execution_count": 35,
   "metadata": {},
   "outputs": [
    {
     "data": {
      "text/plain": [
       "array([[ 5,  8],\n",
       "       [13, 20]])"
      ]
     },
     "execution_count": 35,
     "metadata": {},
     "output_type": "execute_result"
    }
   ],
   "source": [
    "import numpy as np\n",
    "c1=np.array([(1,2),(3,4)])\n",
    "c2=np.array([(3,4),(1,2)])\n",
    "np.dot(c1,c2)"
   ]
  },
  {
   "cell_type": "code",
   "execution_count": 36,
   "metadata": {},
   "outputs": [
    {
     "data": {
      "text/plain": [
       "array([[ 6, 33],\n",
       "       [15, 72]])"
      ]
     },
     "execution_count": 36,
     "metadata": {},
     "output_type": "execute_result"
    }
   ],
   "source": [
    "import numpy as np\n",
    "b1=np.array([(1,5),(6,9)])\n",
    "b2=np.array([(1,3),(1,6)])\n",
    "np.matmul(b1,b2)"
   ]
  },
  {
   "cell_type": "code",
   "execution_count": 40,
   "metadata": {},
   "outputs": [
    {
     "name": "stdout",
     "output_type": "stream",
     "text": [
      "      name            emailid  mobilenumber address\n",
      "0    arjun    arjun@gmail.com           999     hyd\n",
      "1    varun    varun@gmail.com           888     hyd\n",
      "2  goutham  goutham@gmail.com           777     hyd\n",
      "3    dolly    dolly@gmail.com           666     hyd\n",
      "4     sush     sush@gmail.com           555     hyd\n",
      "5     srav     srav@gmail.com           444     hyd\n"
     ]
    }
   ],
   "source": [
    "import pandas as pd\n",
    "dict={\"name\":[\"arjun\",\"varun\",\"goutham\",\"dolly\",\"sush\",\"srav\"],\"emailid\":[\"arjun@gmail.com\",\"varun@gmail.com\",\"goutham@gmail.com\",\"dolly@gmail.com\",\"sush@gmail.com\",\"srav@gmail.com\"],\"mobilenumber\":[999,888,777,666,555,444],\"address\":[\"hyd\",\"hyd\",\"hyd\",\"hyd\",\"hyd\",\"hyd\"]}\n",
    "b=pd.DataFrame(dict)\n",
    "print(b)"
   ]
  },
  {
   "cell_type": "code",
   "execution_count": 41,
   "metadata": {},
   "outputs": [
    {
     "name": "stdout",
     "output_type": "stream",
     "text": [
      "       name            emailid  mobilenumber address\n",
      "01    arjun    arjun@gmail.com           999     hyd\n",
      "02    varun    varun@gmail.com           888     hyd\n",
      "03  goutham  goutham@gmail.com           777     hyd\n",
      "04    dolly    dolly@gmail.com           666     hyd\n",
      "05     sush     sush@gmail.com           555     hyd\n",
      "06     srav     srav@gmail.com           444     hyd\n"
     ]
    }
   ],
   "source": [
    "b.index=[\"01\",\"02\",\"03\",\"04\",\"05\",\"06\"]\n",
    "print(b)"
   ]
  },
  {
   "cell_type": "code",
   "execution_count": null,
   "metadata": {},
   "outputs": [],
   "source": [
    "import pandas as pd\n",
    "product_sellingdata=pd.read_csv(\"filename.csv\",index_col=1)\n",
    "print(product_sellingdata)"
   ]
  }
 ],
 "metadata": {
  "kernelspec": {
   "display_name": "Python 3",
   "language": "python",
   "name": "python3"
  },
  "language_info": {
   "codemirror_mode": {
    "name": "ipython",
    "version": 3
   },
   "file_extension": ".py",
   "mimetype": "text/x-python",
   "name": "python",
   "nbconvert_exporter": "python",
   "pygments_lexer": "ipython3",
   "version": "3.7.3"
  }
 },
 "nbformat": 4,
 "nbformat_minor": 2
}
